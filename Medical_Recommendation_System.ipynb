{
  "nbformat": 4,
  "nbformat_minor": 0,
  "metadata": {
    "colab": {
      "provenance": []
    },
    "kernelspec": {
      "name": "python3",
      "display_name": "Python 3"
    },
    "language_info": {
      "name": "python"
    }
  },
  "cells": [
    {
      "cell_type": "markdown",
      "metadata": {
        "id": "EOZtjgQ_ZEOP"
      },
      "source": [
        "###**Personalized Medical Recommendation System**"
      ]
    },
    {
      "cell_type": "code",
      "execution_count": 1,
      "metadata": {
        "colab": {
          "base_uri": "https://localhost:8080/"
        },
        "id": "4oIpkCzlY9oz",
        "outputId": "31d291cf-b817-4079-b580-47e8bb1e089d"
      },
      "outputs": [
        {
          "output_type": "stream",
          "name": "stdout",
          "text": [
            "Requirement already satisfied: kaggle in /usr/local/lib/python3.10/dist-packages (1.6.17)\n",
            "Requirement already satisfied: six>=1.10 in /usr/local/lib/python3.10/dist-packages (from kaggle) (1.16.0)\n",
            "Requirement already satisfied: certifi>=2023.7.22 in /usr/local/lib/python3.10/dist-packages (from kaggle) (2024.8.30)\n",
            "Requirement already satisfied: python-dateutil in /usr/local/lib/python3.10/dist-packages (from kaggle) (2.8.2)\n",
            "Requirement already satisfied: requests in /usr/local/lib/python3.10/dist-packages (from kaggle) (2.32.3)\n",
            "Requirement already satisfied: tqdm in /usr/local/lib/python3.10/dist-packages (from kaggle) (4.66.6)\n",
            "Requirement already satisfied: python-slugify in /usr/local/lib/python3.10/dist-packages (from kaggle) (8.0.4)\n",
            "Requirement already satisfied: urllib3 in /usr/local/lib/python3.10/dist-packages (from kaggle) (2.2.3)\n",
            "Requirement already satisfied: bleach in /usr/local/lib/python3.10/dist-packages (from kaggle) (6.2.0)\n",
            "Requirement already satisfied: webencodings in /usr/local/lib/python3.10/dist-packages (from bleach->kaggle) (0.5.1)\n",
            "Requirement already satisfied: text-unidecode>=1.3 in /usr/local/lib/python3.10/dist-packages (from python-slugify->kaggle) (1.3)\n",
            "Requirement already satisfied: charset-normalizer<4,>=2 in /usr/local/lib/python3.10/dist-packages (from requests->kaggle) (3.4.0)\n",
            "Requirement already satisfied: idna<4,>=2.5 in /usr/local/lib/python3.10/dist-packages (from requests->kaggle) (3.10)\n"
          ]
        }
      ],
      "source": [
        "!pip install kaggle"
      ]
    },
    {
      "cell_type": "markdown",
      "metadata": {
        "id": "6U90KhlyZcW-"
      },
      "source": [
        "#####**Mounting Google Drive in Google Colab**"
      ]
    },
    {
      "cell_type": "code",
      "execution_count": 2,
      "metadata": {
        "id": "pjNoRrUXZZXv",
        "colab": {
          "base_uri": "https://localhost:8080/"
        },
        "outputId": "4980382a-0657-428b-d143-f1c3e956396e"
      },
      "outputs": [
        {
          "output_type": "stream",
          "name": "stdout",
          "text": [
            "Mounted at /content/drive\n"
          ]
        }
      ],
      "source": [
        "from google.colab import drive\n",
        "drive.mount('/content/drive')"
      ]
    },
    {
      "cell_type": "code",
      "execution_count": 3,
      "metadata": {
        "id": "GPXx2ZBTaLTp"
      },
      "outputs": [],
      "source": [
        "#Creating a Kaggle Folder\n",
        "!mkdir ~/.kaggle"
      ]
    },
    {
      "cell_type": "code",
      "execution_count": 4,
      "metadata": {
        "id": "H7t5y1Peacpv",
        "colab": {
          "base_uri": "https://localhost:8080/"
        },
        "outputId": "c1c50044-cbf3-4a94-a3cb-20a7909c37ed"
      },
      "outputs": [
        {
          "output_type": "stream",
          "name": "stdout",
          "text": [
            "Dataset URL: https://www.kaggle.com/datasets/noorsaeed/medicine-recommendation-system-dataset\n",
            "License(s): apache-2.0\n",
            "Downloading medicine-recommendation-system-dataset.zip to /content\n",
            "100% 59.8k/59.8k [00:00<00:00, 554kB/s]\n",
            "100% 59.8k/59.8k [00:00<00:00, 552kB/s]\n"
          ]
        }
      ],
      "source": [
        "!kaggle datasets download -d noorsaeed/medicine-recommendation-system-dataset"
      ]
    },
    {
      "cell_type": "code",
      "execution_count": 5,
      "metadata": {
        "colab": {
          "base_uri": "https://localhost:8080/"
        },
        "id": "r1evsPE0a_aB",
        "outputId": "775afaf1-8f0b-4630-fa15-75daf20f32ec"
      },
      "outputs": [
        {
          "output_type": "stream",
          "name": "stdout",
          "text": [
            "Archive:  medicine-recommendation-system-dataset.zip\n",
            "  inflating: Symptom-severity.csv    \n",
            "  inflating: Training.csv            \n",
            "  inflating: description.csv         \n",
            "  inflating: diets.csv               \n",
            "  inflating: medications.csv         \n",
            "  inflating: precautions_df.csv      \n",
            "  inflating: symtoms_df.csv          \n",
            "  inflating: workout_df.csv          \n"
          ]
        }
      ],
      "source": [
        "!unzip medicine-recommendation-system-dataset.zip"
      ]
    },
    {
      "cell_type": "markdown",
      "source": [
        "#####**Loading Dataset and Tools**"
      ],
      "metadata": {
        "id": "iUbiWRGZW1ZB"
      }
    },
    {
      "cell_type": "code",
      "source": [
        "import pandas as pd"
      ],
      "metadata": {
        "id": "vBe50D_QXGMA"
      },
      "execution_count": 6,
      "outputs": []
    },
    {
      "cell_type": "code",
      "source": [
        "dataset=pd.read_csv(\"/content/TrainingFinal.csv\")"
      ],
      "metadata": {
        "id": "YOXX340UWvig"
      },
      "execution_count": 7,
      "outputs": []
    },
    {
      "cell_type": "code",
      "source": [
        "dataset.head()"
      ],
      "metadata": {
        "colab": {
          "base_uri": "https://localhost:8080/",
          "height": 342
        },
        "id": "PYo5LBs0XaCY",
        "outputId": "c5ac1640-58d5-46a8-e092-4f2dab63486f"
      },
      "execution_count": 8,
      "outputs": [
        {
          "output_type": "execute_result",
          "data": {
            "text/plain": [
              "   itching  skin_rash  nodal_skin_eruptions  continuous_sneezing  shivering  \\\n",
              "0        1          1                     1                    0          0   \n",
              "1        0          1                     1                    0          0   \n",
              "2        1          0                     1                    0          0   \n",
              "3        1          1                     0                    0          0   \n",
              "4        1          1                     1                    0          0   \n",
              "\n",
              "   chills  joint_pain  stomach_pain  acidity  ulcers_on_tongue  ...  \\\n",
              "0       0           0             0        0                 0  ...   \n",
              "1       0           0             0        0                 0  ...   \n",
              "2       0           0             0        0                 0  ...   \n",
              "3       0           0             0        0                 0  ...   \n",
              "4       0           0             0        0                 0  ...   \n",
              "\n",
              "   blackheads  scurring  skin_peeling  silver_like_dusting  \\\n",
              "0           0         0             0                    0   \n",
              "1           0         0             0                    0   \n",
              "2           0         0             0                    0   \n",
              "3           0         0             0                    0   \n",
              "4           0         0             0                    0   \n",
              "\n",
              "   small_dents_in_nails  inflammatory_nails  blister  red_sore_around_nose  \\\n",
              "0                     0                   0        0                     0   \n",
              "1                     0                   0        0                     0   \n",
              "2                     0                   0        0                     0   \n",
              "3                     0                   0        0                     0   \n",
              "4                     0                   0        0                     0   \n",
              "\n",
              "   yellow_crust_ooze         prognosis  \n",
              "0                  0  Fungal infection  \n",
              "1                  0  Fungal infection  \n",
              "2                  0  Fungal infection  \n",
              "3                  0  Fungal infection  \n",
              "4                  0  Fungal infection  \n",
              "\n",
              "[5 rows x 133 columns]"
            ],
            "text/html": [
              "\n",
              "  <div id=\"df-5d0d332c-cb72-400d-b4f3-1c832c92f372\" class=\"colab-df-container\">\n",
              "    <div>\n",
              "<style scoped>\n",
              "    .dataframe tbody tr th:only-of-type {\n",
              "        vertical-align: middle;\n",
              "    }\n",
              "\n",
              "    .dataframe tbody tr th {\n",
              "        vertical-align: top;\n",
              "    }\n",
              "\n",
              "    .dataframe thead th {\n",
              "        text-align: right;\n",
              "    }\n",
              "</style>\n",
              "<table border=\"1\" class=\"dataframe\">\n",
              "  <thead>\n",
              "    <tr style=\"text-align: right;\">\n",
              "      <th></th>\n",
              "      <th>itching</th>\n",
              "      <th>skin_rash</th>\n",
              "      <th>nodal_skin_eruptions</th>\n",
              "      <th>continuous_sneezing</th>\n",
              "      <th>shivering</th>\n",
              "      <th>chills</th>\n",
              "      <th>joint_pain</th>\n",
              "      <th>stomach_pain</th>\n",
              "      <th>acidity</th>\n",
              "      <th>ulcers_on_tongue</th>\n",
              "      <th>...</th>\n",
              "      <th>blackheads</th>\n",
              "      <th>scurring</th>\n",
              "      <th>skin_peeling</th>\n",
              "      <th>silver_like_dusting</th>\n",
              "      <th>small_dents_in_nails</th>\n",
              "      <th>inflammatory_nails</th>\n",
              "      <th>blister</th>\n",
              "      <th>red_sore_around_nose</th>\n",
              "      <th>yellow_crust_ooze</th>\n",
              "      <th>prognosis</th>\n",
              "    </tr>\n",
              "  </thead>\n",
              "  <tbody>\n",
              "    <tr>\n",
              "      <th>0</th>\n",
              "      <td>1</td>\n",
              "      <td>1</td>\n",
              "      <td>1</td>\n",
              "      <td>0</td>\n",
              "      <td>0</td>\n",
              "      <td>0</td>\n",
              "      <td>0</td>\n",
              "      <td>0</td>\n",
              "      <td>0</td>\n",
              "      <td>0</td>\n",
              "      <td>...</td>\n",
              "      <td>0</td>\n",
              "      <td>0</td>\n",
              "      <td>0</td>\n",
              "      <td>0</td>\n",
              "      <td>0</td>\n",
              "      <td>0</td>\n",
              "      <td>0</td>\n",
              "      <td>0</td>\n",
              "      <td>0</td>\n",
              "      <td>Fungal infection</td>\n",
              "    </tr>\n",
              "    <tr>\n",
              "      <th>1</th>\n",
              "      <td>0</td>\n",
              "      <td>1</td>\n",
              "      <td>1</td>\n",
              "      <td>0</td>\n",
              "      <td>0</td>\n",
              "      <td>0</td>\n",
              "      <td>0</td>\n",
              "      <td>0</td>\n",
              "      <td>0</td>\n",
              "      <td>0</td>\n",
              "      <td>...</td>\n",
              "      <td>0</td>\n",
              "      <td>0</td>\n",
              "      <td>0</td>\n",
              "      <td>0</td>\n",
              "      <td>0</td>\n",
              "      <td>0</td>\n",
              "      <td>0</td>\n",
              "      <td>0</td>\n",
              "      <td>0</td>\n",
              "      <td>Fungal infection</td>\n",
              "    </tr>\n",
              "    <tr>\n",
              "      <th>2</th>\n",
              "      <td>1</td>\n",
              "      <td>0</td>\n",
              "      <td>1</td>\n",
              "      <td>0</td>\n",
              "      <td>0</td>\n",
              "      <td>0</td>\n",
              "      <td>0</td>\n",
              "      <td>0</td>\n",
              "      <td>0</td>\n",
              "      <td>0</td>\n",
              "      <td>...</td>\n",
              "      <td>0</td>\n",
              "      <td>0</td>\n",
              "      <td>0</td>\n",
              "      <td>0</td>\n",
              "      <td>0</td>\n",
              "      <td>0</td>\n",
              "      <td>0</td>\n",
              "      <td>0</td>\n",
              "      <td>0</td>\n",
              "      <td>Fungal infection</td>\n",
              "    </tr>\n",
              "    <tr>\n",
              "      <th>3</th>\n",
              "      <td>1</td>\n",
              "      <td>1</td>\n",
              "      <td>0</td>\n",
              "      <td>0</td>\n",
              "      <td>0</td>\n",
              "      <td>0</td>\n",
              "      <td>0</td>\n",
              "      <td>0</td>\n",
              "      <td>0</td>\n",
              "      <td>0</td>\n",
              "      <td>...</td>\n",
              "      <td>0</td>\n",
              "      <td>0</td>\n",
              "      <td>0</td>\n",
              "      <td>0</td>\n",
              "      <td>0</td>\n",
              "      <td>0</td>\n",
              "      <td>0</td>\n",
              "      <td>0</td>\n",
              "      <td>0</td>\n",
              "      <td>Fungal infection</td>\n",
              "    </tr>\n",
              "    <tr>\n",
              "      <th>4</th>\n",
              "      <td>1</td>\n",
              "      <td>1</td>\n",
              "      <td>1</td>\n",
              "      <td>0</td>\n",
              "      <td>0</td>\n",
              "      <td>0</td>\n",
              "      <td>0</td>\n",
              "      <td>0</td>\n",
              "      <td>0</td>\n",
              "      <td>0</td>\n",
              "      <td>...</td>\n",
              "      <td>0</td>\n",
              "      <td>0</td>\n",
              "      <td>0</td>\n",
              "      <td>0</td>\n",
              "      <td>0</td>\n",
              "      <td>0</td>\n",
              "      <td>0</td>\n",
              "      <td>0</td>\n",
              "      <td>0</td>\n",
              "      <td>Fungal infection</td>\n",
              "    </tr>\n",
              "  </tbody>\n",
              "</table>\n",
              "<p>5 rows × 133 columns</p>\n",
              "</div>\n",
              "    <div class=\"colab-df-buttons\">\n",
              "\n",
              "  <div class=\"colab-df-container\">\n",
              "    <button class=\"colab-df-convert\" onclick=\"convertToInteractive('df-5d0d332c-cb72-400d-b4f3-1c832c92f372')\"\n",
              "            title=\"Convert this dataframe to an interactive table.\"\n",
              "            style=\"display:none;\">\n",
              "\n",
              "  <svg xmlns=\"http://www.w3.org/2000/svg\" height=\"24px\" viewBox=\"0 -960 960 960\">\n",
              "    <path d=\"M120-120v-720h720v720H120Zm60-500h600v-160H180v160Zm220 220h160v-160H400v160Zm0 220h160v-160H400v160ZM180-400h160v-160H180v160Zm440 0h160v-160H620v160ZM180-180h160v-160H180v160Zm440 0h160v-160H620v160Z\"/>\n",
              "  </svg>\n",
              "    </button>\n",
              "\n",
              "  <style>\n",
              "    .colab-df-container {\n",
              "      display:flex;\n",
              "      gap: 12px;\n",
              "    }\n",
              "\n",
              "    .colab-df-convert {\n",
              "      background-color: #E8F0FE;\n",
              "      border: none;\n",
              "      border-radius: 50%;\n",
              "      cursor: pointer;\n",
              "      display: none;\n",
              "      fill: #1967D2;\n",
              "      height: 32px;\n",
              "      padding: 0 0 0 0;\n",
              "      width: 32px;\n",
              "    }\n",
              "\n",
              "    .colab-df-convert:hover {\n",
              "      background-color: #E2EBFA;\n",
              "      box-shadow: 0px 1px 2px rgba(60, 64, 67, 0.3), 0px 1px 3px 1px rgba(60, 64, 67, 0.15);\n",
              "      fill: #174EA6;\n",
              "    }\n",
              "\n",
              "    .colab-df-buttons div {\n",
              "      margin-bottom: 4px;\n",
              "    }\n",
              "\n",
              "    [theme=dark] .colab-df-convert {\n",
              "      background-color: #3B4455;\n",
              "      fill: #D2E3FC;\n",
              "    }\n",
              "\n",
              "    [theme=dark] .colab-df-convert:hover {\n",
              "      background-color: #434B5C;\n",
              "      box-shadow: 0px 1px 3px 1px rgba(0, 0, 0, 0.15);\n",
              "      filter: drop-shadow(0px 1px 2px rgba(0, 0, 0, 0.3));\n",
              "      fill: #FFFFFF;\n",
              "    }\n",
              "  </style>\n",
              "\n",
              "    <script>\n",
              "      const buttonEl =\n",
              "        document.querySelector('#df-5d0d332c-cb72-400d-b4f3-1c832c92f372 button.colab-df-convert');\n",
              "      buttonEl.style.display =\n",
              "        google.colab.kernel.accessAllowed ? 'block' : 'none';\n",
              "\n",
              "      async function convertToInteractive(key) {\n",
              "        const element = document.querySelector('#df-5d0d332c-cb72-400d-b4f3-1c832c92f372');\n",
              "        const dataTable =\n",
              "          await google.colab.kernel.invokeFunction('convertToInteractive',\n",
              "                                                    [key], {});\n",
              "        if (!dataTable) return;\n",
              "\n",
              "        const docLinkHtml = 'Like what you see? Visit the ' +\n",
              "          '<a target=\"_blank\" href=https://colab.research.google.com/notebooks/data_table.ipynb>data table notebook</a>'\n",
              "          + ' to learn more about interactive tables.';\n",
              "        element.innerHTML = '';\n",
              "        dataTable['output_type'] = 'display_data';\n",
              "        await google.colab.output.renderOutput(dataTable, element);\n",
              "        const docLink = document.createElement('div');\n",
              "        docLink.innerHTML = docLinkHtml;\n",
              "        element.appendChild(docLink);\n",
              "      }\n",
              "    </script>\n",
              "  </div>\n",
              "\n",
              "\n",
              "<div id=\"df-1fd01aba-59f9-4c76-a9ba-93b9480aa684\">\n",
              "  <button class=\"colab-df-quickchart\" onclick=\"quickchart('df-1fd01aba-59f9-4c76-a9ba-93b9480aa684')\"\n",
              "            title=\"Suggest charts\"\n",
              "            style=\"display:none;\">\n",
              "\n",
              "<svg xmlns=\"http://www.w3.org/2000/svg\" height=\"24px\"viewBox=\"0 0 24 24\"\n",
              "     width=\"24px\">\n",
              "    <g>\n",
              "        <path d=\"M19 3H5c-1.1 0-2 .9-2 2v14c0 1.1.9 2 2 2h14c1.1 0 2-.9 2-2V5c0-1.1-.9-2-2-2zM9 17H7v-7h2v7zm4 0h-2V7h2v10zm4 0h-2v-4h2v4z\"/>\n",
              "    </g>\n",
              "</svg>\n",
              "  </button>\n",
              "\n",
              "<style>\n",
              "  .colab-df-quickchart {\n",
              "      --bg-color: #E8F0FE;\n",
              "      --fill-color: #1967D2;\n",
              "      --hover-bg-color: #E2EBFA;\n",
              "      --hover-fill-color: #174EA6;\n",
              "      --disabled-fill-color: #AAA;\n",
              "      --disabled-bg-color: #DDD;\n",
              "  }\n",
              "\n",
              "  [theme=dark] .colab-df-quickchart {\n",
              "      --bg-color: #3B4455;\n",
              "      --fill-color: #D2E3FC;\n",
              "      --hover-bg-color: #434B5C;\n",
              "      --hover-fill-color: #FFFFFF;\n",
              "      --disabled-bg-color: #3B4455;\n",
              "      --disabled-fill-color: #666;\n",
              "  }\n",
              "\n",
              "  .colab-df-quickchart {\n",
              "    background-color: var(--bg-color);\n",
              "    border: none;\n",
              "    border-radius: 50%;\n",
              "    cursor: pointer;\n",
              "    display: none;\n",
              "    fill: var(--fill-color);\n",
              "    height: 32px;\n",
              "    padding: 0;\n",
              "    width: 32px;\n",
              "  }\n",
              "\n",
              "  .colab-df-quickchart:hover {\n",
              "    background-color: var(--hover-bg-color);\n",
              "    box-shadow: 0 1px 2px rgba(60, 64, 67, 0.3), 0 1px 3px 1px rgba(60, 64, 67, 0.15);\n",
              "    fill: var(--button-hover-fill-color);\n",
              "  }\n",
              "\n",
              "  .colab-df-quickchart-complete:disabled,\n",
              "  .colab-df-quickchart-complete:disabled:hover {\n",
              "    background-color: var(--disabled-bg-color);\n",
              "    fill: var(--disabled-fill-color);\n",
              "    box-shadow: none;\n",
              "  }\n",
              "\n",
              "  .colab-df-spinner {\n",
              "    border: 2px solid var(--fill-color);\n",
              "    border-color: transparent;\n",
              "    border-bottom-color: var(--fill-color);\n",
              "    animation:\n",
              "      spin 1s steps(1) infinite;\n",
              "  }\n",
              "\n",
              "  @keyframes spin {\n",
              "    0% {\n",
              "      border-color: transparent;\n",
              "      border-bottom-color: var(--fill-color);\n",
              "      border-left-color: var(--fill-color);\n",
              "    }\n",
              "    20% {\n",
              "      border-color: transparent;\n",
              "      border-left-color: var(--fill-color);\n",
              "      border-top-color: var(--fill-color);\n",
              "    }\n",
              "    30% {\n",
              "      border-color: transparent;\n",
              "      border-left-color: var(--fill-color);\n",
              "      border-top-color: var(--fill-color);\n",
              "      border-right-color: var(--fill-color);\n",
              "    }\n",
              "    40% {\n",
              "      border-color: transparent;\n",
              "      border-right-color: var(--fill-color);\n",
              "      border-top-color: var(--fill-color);\n",
              "    }\n",
              "    60% {\n",
              "      border-color: transparent;\n",
              "      border-right-color: var(--fill-color);\n",
              "    }\n",
              "    80% {\n",
              "      border-color: transparent;\n",
              "      border-right-color: var(--fill-color);\n",
              "      border-bottom-color: var(--fill-color);\n",
              "    }\n",
              "    90% {\n",
              "      border-color: transparent;\n",
              "      border-bottom-color: var(--fill-color);\n",
              "    }\n",
              "  }\n",
              "</style>\n",
              "\n",
              "  <script>\n",
              "    async function quickchart(key) {\n",
              "      const quickchartButtonEl =\n",
              "        document.querySelector('#' + key + ' button');\n",
              "      quickchartButtonEl.disabled = true;  // To prevent multiple clicks.\n",
              "      quickchartButtonEl.classList.add('colab-df-spinner');\n",
              "      try {\n",
              "        const charts = await google.colab.kernel.invokeFunction(\n",
              "            'suggestCharts', [key], {});\n",
              "      } catch (error) {\n",
              "        console.error('Error during call to suggestCharts:', error);\n",
              "      }\n",
              "      quickchartButtonEl.classList.remove('colab-df-spinner');\n",
              "      quickchartButtonEl.classList.add('colab-df-quickchart-complete');\n",
              "    }\n",
              "    (() => {\n",
              "      let quickchartButtonEl =\n",
              "        document.querySelector('#df-1fd01aba-59f9-4c76-a9ba-93b9480aa684 button');\n",
              "      quickchartButtonEl.style.display =\n",
              "        google.colab.kernel.accessAllowed ? 'block' : 'none';\n",
              "    })();\n",
              "  </script>\n",
              "</div>\n",
              "\n",
              "    </div>\n",
              "  </div>\n"
            ],
            "application/vnd.google.colaboratory.intrinsic+json": {
              "type": "dataframe",
              "variable_name": "dataset"
            }
          },
          "metadata": {},
          "execution_count": 8
        }
      ]
    },
    {
      "cell_type": "code",
      "source": [
        "dataset.shape"
      ],
      "metadata": {
        "colab": {
          "base_uri": "https://localhost:8080/"
        },
        "id": "tOnWKYZgXtzo",
        "outputId": "7fca0ede-c4e7-4f71-b83e-2a6cef8db8ba"
      },
      "execution_count": 9,
      "outputs": [
        {
          "output_type": "execute_result",
          "data": {
            "text/plain": [
              "(4925, 133)"
            ]
          },
          "metadata": {},
          "execution_count": 9
        }
      ]
    },
    {
      "cell_type": "code",
      "source": [
        "dataset['prognosis'].nunique()"
      ],
      "metadata": {
        "colab": {
          "base_uri": "https://localhost:8080/"
        },
        "id": "RwIjNuL2Xv3a",
        "outputId": "630d073f-7728-48fa-dc9a-32166e4d9da6"
      },
      "execution_count": 10,
      "outputs": [
        {
          "output_type": "execute_result",
          "data": {
            "text/plain": [
              "42"
            ]
          },
          "metadata": {},
          "execution_count": 10
        }
      ]
    },
    {
      "cell_type": "code",
      "source": [
        "dataset['prognosis'].unique()"
      ],
      "metadata": {
        "colab": {
          "base_uri": "https://localhost:8080/"
        },
        "id": "LSP8VzlCYLFh",
        "outputId": "903ef6e2-4995-40c7-face-45329a67d23c"
      },
      "execution_count": 11,
      "outputs": [
        {
          "output_type": "execute_result",
          "data": {
            "text/plain": [
              "array(['Fungal infection', 'Allergy', 'GERD', 'Chronic cholestasis',\n",
              "       'Drug Reaction', 'Peptic ulcer diseae', 'AIDS', 'Influenzer (Flu)',\n",
              "       'Diabetes ', 'Gastroenteritis', 'Bronchial Asthma',\n",
              "       'Hypertension ', 'Migraine', 'Cervical spondylosis',\n",
              "       'Paralysis (brain hemorrhage)', 'Jaundice', 'Malaria',\n",
              "       'Chicken pox', 'Dengue', 'Typhoid', 'hepatitis A', 'Hepatitis B',\n",
              "       'Hepatitis C', 'Hepatitis D', 'Hepatitis E', 'Alcoholic hepatitis',\n",
              "       'Tuberculosis', 'Common Cold', 'Pneumonia',\n",
              "       'Dimorphic hemmorhoids(piles)', 'Heart attack', 'Varicose veins',\n",
              "       'Hypothyroidism', 'Hyperthyroidism', 'Hypoglycemia',\n",
              "       'Osteoarthristis', 'Arthritis',\n",
              "       '(vertigo) Paroymsal  Positional Vertigo', 'Acne',\n",
              "       'Urinary tract infection', 'Psoriasis', 'Impetigo'], dtype=object)"
            ]
          },
          "metadata": {},
          "execution_count": 11
        }
      ]
    },
    {
      "cell_type": "code",
      "source": [
        "dataset.isnull().sum()"
      ],
      "metadata": {
        "colab": {
          "base_uri": "https://localhost:8080/",
          "height": 458
        },
        "id": "Y1qBtC77YhIx",
        "outputId": "05975a3e-ed3a-48f1-cdd1-00f89702a4b1"
      },
      "execution_count": 12,
      "outputs": [
        {
          "output_type": "execute_result",
          "data": {
            "text/plain": [
              "itching                 0\n",
              "skin_rash               0\n",
              "nodal_skin_eruptions    0\n",
              "continuous_sneezing     0\n",
              "shivering               0\n",
              "                       ..\n",
              "inflammatory_nails      0\n",
              "blister                 0\n",
              "red_sore_around_nose    0\n",
              "yellow_crust_ooze       0\n",
              "prognosis               0\n",
              "Length: 133, dtype: int64"
            ],
            "text/html": [
              "<div>\n",
              "<style scoped>\n",
              "    .dataframe tbody tr th:only-of-type {\n",
              "        vertical-align: middle;\n",
              "    }\n",
              "\n",
              "    .dataframe tbody tr th {\n",
              "        vertical-align: top;\n",
              "    }\n",
              "\n",
              "    .dataframe thead th {\n",
              "        text-align: right;\n",
              "    }\n",
              "</style>\n",
              "<table border=\"1\" class=\"dataframe\">\n",
              "  <thead>\n",
              "    <tr style=\"text-align: right;\">\n",
              "      <th></th>\n",
              "      <th>0</th>\n",
              "    </tr>\n",
              "  </thead>\n",
              "  <tbody>\n",
              "    <tr>\n",
              "      <th>itching</th>\n",
              "      <td>0</td>\n",
              "    </tr>\n",
              "    <tr>\n",
              "      <th>skin_rash</th>\n",
              "      <td>0</td>\n",
              "    </tr>\n",
              "    <tr>\n",
              "      <th>nodal_skin_eruptions</th>\n",
              "      <td>0</td>\n",
              "    </tr>\n",
              "    <tr>\n",
              "      <th>continuous_sneezing</th>\n",
              "      <td>0</td>\n",
              "    </tr>\n",
              "    <tr>\n",
              "      <th>shivering</th>\n",
              "      <td>0</td>\n",
              "    </tr>\n",
              "    <tr>\n",
              "      <th>...</th>\n",
              "      <td>...</td>\n",
              "    </tr>\n",
              "    <tr>\n",
              "      <th>inflammatory_nails</th>\n",
              "      <td>0</td>\n",
              "    </tr>\n",
              "    <tr>\n",
              "      <th>blister</th>\n",
              "      <td>0</td>\n",
              "    </tr>\n",
              "    <tr>\n",
              "      <th>red_sore_around_nose</th>\n",
              "      <td>0</td>\n",
              "    </tr>\n",
              "    <tr>\n",
              "      <th>yellow_crust_ooze</th>\n",
              "      <td>0</td>\n",
              "    </tr>\n",
              "    <tr>\n",
              "      <th>prognosis</th>\n",
              "      <td>0</td>\n",
              "    </tr>\n",
              "  </tbody>\n",
              "</table>\n",
              "<p>133 rows × 1 columns</p>\n",
              "</div><br><label><b>dtype:</b> int64</label>"
            ]
          },
          "metadata": {},
          "execution_count": 12
        }
      ]
    },
    {
      "cell_type": "markdown",
      "source": [
        "#####**Train Test Split**"
      ],
      "metadata": {
        "id": "Z1G1xqxZZlt4"
      }
    },
    {
      "cell_type": "code",
      "source": [
        "from sklearn.model_selection import train_test_split\n",
        "from sklearn.preprocessing import LabelEncoder"
      ],
      "metadata": {
        "id": "nyQWxtxbZknh"
      },
      "execution_count": 13,
      "outputs": []
    },
    {
      "cell_type": "code",
      "source": [
        "X=dataset.drop('prognosis',axis=1)\n",
        "y=dataset['prognosis']"
      ],
      "metadata": {
        "id": "nLAaMLw_Zkpw"
      },
      "execution_count": 14,
      "outputs": []
    },
    {
      "cell_type": "code",
      "source": [
        "le=LabelEncoder()\n",
        "le.fit(y)\n",
        "Y=le.transform(y)"
      ],
      "metadata": {
        "id": "sf7Z4_1qf9cR"
      },
      "execution_count": 15,
      "outputs": []
    },
    {
      "cell_type": "code",
      "source": [
        "Y"
      ],
      "metadata": {
        "colab": {
          "base_uri": "https://localhost:8080/"
        },
        "id": "clun8epXglK4",
        "outputId": "7512ab35-a121-446e-cc99-920819c04d4b"
      },
      "execution_count": 16,
      "outputs": [
        {
          "output_type": "execute_result",
          "data": {
            "text/plain": [
              "array([15, 15, 15, ..., 10, 10, 10])"
            ]
          },
          "metadata": {},
          "execution_count": 16
        }
      ]
    },
    {
      "cell_type": "code",
      "source": [
        "X_train,X_test,y_train,y_test=train_test_split(X,Y,test_size=0.3,random_state=20)"
      ],
      "metadata": {
        "id": "eYDz2i5nZkxZ"
      },
      "execution_count": 17,
      "outputs": []
    },
    {
      "cell_type": "code",
      "source": [
        "X_train.shape,X_test.shape,y_test.shape,y_train.shape"
      ],
      "metadata": {
        "colab": {
          "base_uri": "https://localhost:8080/"
        },
        "id": "dCg2QIL6dFih",
        "outputId": "38aaf9f3-ba36-4b26-9d82-06e3f09ff387"
      },
      "execution_count": 18,
      "outputs": [
        {
          "output_type": "execute_result",
          "data": {
            "text/plain": [
              "((3447, 132), (1478, 132), (1478,), (3447,))"
            ]
          },
          "metadata": {},
          "execution_count": 18
        }
      ]
    },
    {
      "cell_type": "markdown",
      "source": [
        "#####**Training Top Models**"
      ],
      "metadata": {
        "id": "26dbVEFfhBRw"
      }
    },
    {
      "cell_type": "code",
      "source": [
        "import pandas as pd\n",
        "from sklearn.datasets import make_classification  # For creating a synthetic dataset\n",
        "from sklearn.svm import SVC  # Support Vector Classifier\n",
        "from sklearn.linear_model import LogisticRegression  # Logistic Regression\n",
        "from sklearn.ensemble import RandomForestClassifier, GradientBoostingClassifier # Ensemble methods\n",
        "from sklearn.neighbors import KNeighborsClassifier  # K-Nearest Neighbors\n",
        "from sklearn.naive_bayes import MultinomialNB  # Naive Bayes classifier\n",
        "from sklearn.model_selection import cross_val_score, KFold, StratifiedKFold,GridSearchCV   #Cross Validation\n",
        "from sklearn.metrics import accuracy_score,confusion_matrix,classification_report\n",
        "from sklearn.tree import DecisionTreeClassifier  # Decision Tree Classifier\n",
        "import numpy as np\n",
        "\n",
        "import warnings\n",
        "warnings.filterwarnings(\"ignore\")"
      ],
      "metadata": {
        "id": "XpdqACv8g97C"
      },
      "execution_count": 19,
      "outputs": []
    },
    {
      "cell_type": "code",
      "source": [
        "# Define models with modified parameters for regularization\n",
        "models = {\n",
        "    'LogisticRegression': LogisticRegression(C=0.5, solver='liblinear', random_state=42,class_weight=\"balanced\"),  # Logistic Regression\n",
        "    'SVC': SVC(kernel=\"linear\", C=0.1),  # Lower regularization strength (C=0.1)\n",
        "    'RandomForest': RandomForestClassifier(n_estimators=50, max_depth=5, random_state=42),  # Tuned RF\n",
        "    \"DecisionTree\": DecisionTreeClassifier(max_depth=5, criterion=\"entropy\", random_state=42),\n",
        "    'GradientBoosting': GradientBoostingClassifier(n_estimators=50, learning_rate=0.05, random_state=42),  # Tuned GB\n",
        "    'KNeighbors': KNeighborsClassifier(n_neighbors=15, weights='uniform'),  # Regularized KNN (increased neighbors)\n",
        "    'MultinomialNB': MultinomialNB(alpha=0.5),  # Tuned Naive Bayes\n",
        "}\n",
        "\n",
        "# Define Stratified KFold cross-validation strategy to maintain class distribution\n",
        "skf = StratifiedKFold(n_splits=10, shuffle=True, random_state=42)\n",
        "\n",
        "# Iterate over each model\n",
        "for model_name, model in models.items():\n",
        "    print(f\"\\nModel: {model_name}\")\n",
        "\n",
        "    # Performed Stratified Cross-validation to evaluate generalization\n",
        "    cv_scores = cross_val_score(model, X_train, y_train, cv=skf)\n",
        "    print(f\"Cross-Validation Accuracy: {cv_scores.mean():.4f} ± {cv_scores.std():.4f}\")\n",
        "\n",
        "    # Trained the model on the full training set\n",
        "    model.fit(X_train, y_train)\n",
        "\n",
        "    # Evaluated on training data to check for overfitting\n",
        "    train_predictions = model.predict(X_train)\n",
        "    train_accuracy = accuracy_score(y_train, train_predictions)\n",
        "\n",
        "    # Evaluated on test data\n",
        "    test_predictions = model.predict(X_test)\n",
        "    test_accuracy = accuracy_score(y_test, test_predictions)\n",
        "\n",
        "    # Generated classification report and summarize key metrics\n",
        "    report = classification_report(y_test, test_predictions, output_dict=True)\n",
        "    precision = report[\"weighted avg\"][\"precision\"]\n",
        "    recall = report[\"weighted avg\"][\"recall\"]\n",
        "    f1_score = report[\"weighted avg\"][\"f1-score\"]\n",
        "\n",
        "    # Calculated confusion matrix\n",
        "    cm = confusion_matrix(y_test, test_predictions)\n",
        "\n",
        "    # Print model evaluation results\n",
        "    print(f\"Training Accuracy: {train_accuracy:.4f}\")\n",
        "    print(f\"Test Accuracy: {test_accuracy:.4f}\")\n",
        "    print(\"Classification Report Summary:\")\n",
        "    print(f\"  Precision: {precision:.4f}\")\n",
        "    print(f\"  Recall: {recall:.4f}\")\n",
        "    print(f\"  F1-Score: {f1_score:.4f}\")\n",
        "    print(\"Confusion Matrix:\")\n",
        "    print(cm)\n",
        "    print(\"\\n\")\n"
      ],
      "metadata": {
        "colab": {
          "base_uri": "https://localhost:8080/"
        },
        "id": "OgnF6EC6tZWi",
        "outputId": "d94d76ea-2991-422d-cdd9-1110e3de4622"
      },
      "execution_count": 20,
      "outputs": [
        {
          "output_type": "stream",
          "name": "stdout",
          "text": [
            "\n",
            "Model: LogisticRegression\n",
            "Cross-Validation Accuracy: 0.9997 ± 0.0009\n",
            "Training Accuracy: 0.9997\n",
            "Test Accuracy: 1.0000\n",
            "Classification Report Summary:\n",
            "  Precision: 1.0000\n",
            "  Recall: 1.0000\n",
            "  F1-Score: 1.0000\n",
            "Confusion Matrix:\n",
            "[[36  0  0 ...  0  0  0]\n",
            " [ 0  1  0 ...  0  0  0]\n",
            " [ 0  0 22 ...  0  0  0]\n",
            " ...\n",
            " [ 0  0  0 ... 33  0  0]\n",
            " [ 0  0  0 ...  0 41  0]\n",
            " [ 0  0  0 ...  0  0 30]]\n",
            "\n",
            "\n",
            "\n",
            "Model: SVC\n",
            "Cross-Validation Accuracy: 0.9991 ± 0.0013\n",
            "Training Accuracy: 0.9991\n",
            "Test Accuracy: 0.9993\n",
            "Classification Report Summary:\n",
            "  Precision: 0.9987\n",
            "  Recall: 0.9993\n",
            "  F1-Score: 0.9990\n",
            "Confusion Matrix:\n",
            "[[36  0  0 ...  0  0  0]\n",
            " [ 0  0  0 ...  0  0  0]\n",
            " [ 0  0 22 ...  0  0  0]\n",
            " ...\n",
            " [ 0  0  0 ... 33  0  0]\n",
            " [ 0  0  0 ...  0 41  0]\n",
            " [ 0  0  0 ...  0  0 30]]\n",
            "\n",
            "\n",
            "\n",
            "Model: RandomForest\n",
            "Cross-Validation Accuracy: 0.9571 ± 0.0306\n",
            "Training Accuracy: 0.9681\n",
            "Test Accuracy: 0.9567\n",
            "Classification Report Summary:\n",
            "  Precision: 0.9507\n",
            "  Recall: 0.9567\n",
            "  F1-Score: 0.9497\n",
            "Confusion Matrix:\n",
            "[[36  0  0 ...  0  0  0]\n",
            " [ 0  0  0 ...  0  0  0]\n",
            " [ 0  0 22 ...  0  0  0]\n",
            " ...\n",
            " [ 0  0  0 ... 33  0  0]\n",
            " [ 0  0  0 ...  0 41  0]\n",
            " [ 0  0  0 ...  0  0 30]]\n",
            "\n",
            "\n",
            "\n",
            "Model: DecisionTree\n",
            "Cross-Validation Accuracy: 0.6528 ± 0.0136\n",
            "Training Accuracy: 0.6574\n",
            "Test Accuracy: 0.6062\n",
            "Classification Report Summary:\n",
            "  Precision: 0.5450\n",
            "  Recall: 0.6062\n",
            "  F1-Score: 0.5531\n",
            "Confusion Matrix:\n",
            "[[29  0  0 ...  0  0  0]\n",
            " [ 0  0  0 ...  0  0  0]\n",
            " [ 0  0 20 ...  0  0  0]\n",
            " ...\n",
            " [ 0  0  0 ...  0  0  0]\n",
            " [ 0  0  0 ...  0  0  0]\n",
            " [ 0  0  0 ...  0  0 27]]\n",
            "\n",
            "\n",
            "\n",
            "Model: GradientBoosting\n",
            "Cross-Validation Accuracy: 0.9991 ± 0.0019\n",
            "Training Accuracy: 0.9994\n",
            "Test Accuracy: 0.9993\n",
            "Classification Report Summary:\n",
            "  Precision: 0.9987\n",
            "  Recall: 0.9993\n",
            "  F1-Score: 0.9990\n",
            "Confusion Matrix:\n",
            "[[36  0  0 ...  0  0  0]\n",
            " [ 0  0  0 ...  0  0  0]\n",
            " [ 0  0 22 ...  0  0  0]\n",
            " ...\n",
            " [ 0  0  0 ... 33  0  0]\n",
            " [ 0  0  0 ...  0 41  0]\n",
            " [ 0  0  0 ...  0  0 30]]\n",
            "\n",
            "\n",
            "\n",
            "Model: KNeighbors\n",
            "Cross-Validation Accuracy: 0.9991 ± 0.0013\n",
            "Training Accuracy: 0.9991\n",
            "Test Accuracy: 0.9993\n",
            "Classification Report Summary:\n",
            "  Precision: 0.9987\n",
            "  Recall: 0.9993\n",
            "  F1-Score: 0.9990\n",
            "Confusion Matrix:\n",
            "[[36  0  0 ...  0  0  0]\n",
            " [ 0  0  0 ...  0  0  0]\n",
            " [ 0  0 22 ...  0  0  0]\n",
            " ...\n",
            " [ 0  0  0 ... 33  0  0]\n",
            " [ 0  0  0 ...  0 41  0]\n",
            " [ 0  0  0 ...  0  0 30]]\n",
            "\n",
            "\n",
            "\n",
            "Model: MultinomialNB\n",
            "Cross-Validation Accuracy: 0.9991 ± 0.0013\n",
            "Training Accuracy: 0.9991\n",
            "Test Accuracy: 0.9993\n",
            "Classification Report Summary:\n",
            "  Precision: 0.9987\n",
            "  Recall: 0.9993\n",
            "  F1-Score: 0.9990\n",
            "Confusion Matrix:\n",
            "[[36  0  0 ...  0  0  0]\n",
            " [ 0  0  0 ...  0  0  0]\n",
            " [ 0  0 22 ...  0  0  0]\n",
            " ...\n",
            " [ 0  0  0 ... 33  0  0]\n",
            " [ 0  0  0 ...  0 41  0]\n",
            " [ 0  0  0 ...  0  0 30]]\n",
            "\n",
            "\n"
          ]
        }
      ]
    },
    {
      "cell_type": "markdown",
      "source": [
        "#####**Single Prediction SVC (Support Vector Classifier)**"
      ],
      "metadata": {
        "id": "VB9ilQaznhW8"
      }
    },
    {
      "cell_type": "code",
      "source": [
        "from sklearn.svm import SVC\n",
        "from sklearn.model_selection import GridSearchCV, StratifiedKFold, cross_val_score\n",
        "from sklearn.metrics import accuracy_score, classification_report, confusion_matrix\n",
        "\n",
        "# Define the model\n",
        "svc = SVC(kernel=\"linear\", C=0.1)\n",
        "\n",
        "# Set up parameter grid for GridSearchCV\n",
        "param_grid = {\n",
        "    'kernel': ['linear', 'rbf', 'poly'],\n",
        "    'C': [0.1, 1, 10],\n",
        "    'gamma': ['scale', 'auto']\n",
        "}\n",
        "\n",
        "# Initialize GridSearchCV with cross-validation\n",
        "grid_search = GridSearchCV(svc, param_grid, cv=5, scoring='accuracy', verbose=1)\n",
        "\n",
        "# Fit GridSearchCV to the training data\n",
        "grid_search.fit(X_train, y_train)\n",
        "\n",
        "# Get the best parameters and best estimator\n",
        "best_params = grid_search.best_params_\n",
        "print(f\"Best Parameters: {best_params}\")\n",
        "\n",
        "# Use the best estimator from GridSearchCV\n",
        "best_svc = grid_search.best_estimator_\n",
        "\n",
        "# Define StratifiedKFold for cross-validation\n",
        "skf = StratifiedKFold(n_splits=5, shuffle=True, random_state=42)\n",
        "\n",
        "# Evaluate with cross-validation using StratifiedKFold\n",
        "cv_scores = cross_val_score(best_svc, X_train, y_train, cv=skf)\n",
        "print(f\"Cross-Validation Accuracy: {cv_scores.mean():.4f} ± {cv_scores.std():.4f}\")\n",
        "\n",
        "# Fit the best model to the training data\n",
        "best_svc.fit(X_train, y_train)\n",
        "\n",
        "# Make predictions on the test data\n",
        "y_pred = best_svc.predict(X_test)\n",
        "\n",
        "# Calculate accuracy\n",
        "accuracy = accuracy_score(y_test, y_pred)\n",
        "print(f\"Accuracy: {accuracy:.4f}\")\n",
        "\n",
        "# Generate classification report\n",
        "report = classification_report(y_test, y_pred)\n",
        "print(\"Classification Report:\")\n",
        "print(report)\n",
        "\n",
        "# Confusion matrix\n",
        "cm = confusion_matrix(y_test, y_pred)\n",
        "print(\"Confusion Matrix:\")\n",
        "print(cm)\n"
      ],
      "metadata": {
        "colab": {
          "base_uri": "https://localhost:8080/"
        },
        "id": "p-S5ADpbnHSO",
        "outputId": "999dd175-19ee-45e7-eab7-e0ca7ae10376"
      },
      "execution_count": 21,
      "outputs": [
        {
          "output_type": "stream",
          "name": "stdout",
          "text": [
            "Fitting 5 folds for each of 18 candidates, totalling 90 fits\n",
            "Best Parameters: {'C': 10, 'gamma': 'scale', 'kernel': 'linear'}\n",
            "Cross-Validation Accuracy: 0.9994 ± 0.0007\n",
            "Accuracy: 1.0000\n",
            "Classification Report:\n",
            "              precision    recall  f1-score   support\n",
            "\n",
            "           0       1.00      1.00      1.00        36\n",
            "           1       1.00      1.00      1.00         1\n",
            "           2       1.00      1.00      1.00        22\n",
            "           3       1.00      1.00      1.00        34\n",
            "           4       1.00      1.00      1.00        36\n",
            "           5       1.00      1.00      1.00        30\n",
            "           6       1.00      1.00      1.00        32\n",
            "           7       1.00      1.00      1.00        41\n",
            "           8       1.00      1.00      1.00        33\n",
            "           9       1.00      1.00      1.00        39\n",
            "          10       1.00      1.00      1.00        35\n",
            "          11       1.00      1.00      1.00        40\n",
            "          12       1.00      1.00      1.00        38\n",
            "          13       1.00      1.00      1.00        38\n",
            "          14       1.00      1.00      1.00        32\n",
            "          15       1.00      1.00      1.00        34\n",
            "          16       1.00      1.00      1.00        34\n",
            "          17       1.00      1.00      1.00        43\n",
            "          18       1.00      1.00      1.00        32\n",
            "          19       1.00      1.00      1.00        39\n",
            "          20       1.00      1.00      1.00        35\n",
            "          21       1.00      1.00      1.00        33\n",
            "          22       1.00      1.00      1.00        34\n",
            "          23       1.00      1.00      1.00        30\n",
            "          24       1.00      1.00      1.00        44\n",
            "          25       1.00      1.00      1.00        32\n",
            "          26       1.00      1.00      1.00        43\n",
            "          27       1.00      1.00      1.00        40\n",
            "          28       1.00      1.00      1.00        43\n",
            "          29       1.00      1.00      1.00        28\n",
            "          30       1.00      1.00      1.00        37\n",
            "          31       1.00      1.00      1.00        29\n",
            "          32       1.00      1.00      1.00        46\n",
            "          33       1.00      1.00      1.00        36\n",
            "          34       1.00      1.00      1.00        42\n",
            "          35       1.00      1.00      1.00        42\n",
            "          36       1.00      1.00      1.00        43\n",
            "          37       1.00      1.00      1.00        40\n",
            "          38       1.00      1.00      1.00        28\n",
            "          39       1.00      1.00      1.00        33\n",
            "          40       1.00      1.00      1.00        41\n",
            "          41       1.00      1.00      1.00        30\n",
            "\n",
            "    accuracy                           1.00      1478\n",
            "   macro avg       1.00      1.00      1.00      1478\n",
            "weighted avg       1.00      1.00      1.00      1478\n",
            "\n",
            "Confusion Matrix:\n",
            "[[36  0  0 ...  0  0  0]\n",
            " [ 0  1  0 ...  0  0  0]\n",
            " [ 0  0 22 ...  0  0  0]\n",
            " ...\n",
            " [ 0  0  0 ... 33  0  0]\n",
            " [ 0  0  0 ...  0 41  0]\n",
            " [ 0  0  0 ...  0  0 30]]\n"
          ]
        }
      ]
    },
    {
      "cell_type": "code",
      "source": [
        "#Saving Model\n",
        "import pickle\n",
        "pickle.dump(best_svc,open(\"/content/models/svc.pkl\",'wb'))"
      ],
      "metadata": {
        "id": "QD3_YQBIsmcO"
      },
      "execution_count": 25,
      "outputs": []
    },
    {
      "cell_type": "code",
      "source": [
        "#Load Model\n",
        "best_svc=pickle.load(open(\"/content/models/svc.pkl\",'rb'))"
      ],
      "metadata": {
        "id": "3nvbc_NOvefh"
      },
      "execution_count": 26,
      "outputs": []
    },
    {
      "cell_type": "code",
      "source": [
        "# Test 1\n",
        "print(\"Predicted Label:\", best_svc.predict(X_test.iloc[0].values.reshape(1,-1)))\n",
        "print(\"Actual Label:\", y_test[0])"
      ],
      "metadata": {
        "colab": {
          "base_uri": "https://localhost:8080/"
        },
        "id": "S1BTNVxAw14-",
        "outputId": "bcc92ed6-a945-42c7-f040-16b73ff8b92a"
      },
      "execution_count": 27,
      "outputs": [
        {
          "output_type": "stream",
          "name": "stdout",
          "text": [
            "Predicted Label: [32]\n",
            "Actual Label: 32\n"
          ]
        }
      ]
    },
    {
      "cell_type": "code",
      "source": [
        "# Test 2\n",
        "print(\"Predicted Label:\",best_svc.predict(X_test.iloc[10].values.reshape(1,-1)))\n",
        "print(\"Actual Label:\",y_test[10])"
      ],
      "metadata": {
        "colab": {
          "base_uri": "https://localhost:8080/"
        },
        "id": "xVACLnQNz8KW",
        "outputId": "e0e9c043-0e82-4179-d33f-8a7ac1f2a77b"
      },
      "execution_count": 28,
      "outputs": [
        {
          "output_type": "stream",
          "name": "stdout",
          "text": [
            "Predicted Label: [23]\n",
            "Actual Label: 23\n"
          ]
        }
      ]
    },
    {
      "cell_type": "code",
      "source": [
        "#Test 3\n",
        "print(\"Predicted Label:\",best_svc.predict(X_test.iloc[15].values.reshape(1,-1)))\n",
        "print(\"Actual Label:\",y_test[15])"
      ],
      "metadata": {
        "colab": {
          "base_uri": "https://localhost:8080/"
        },
        "id": "w604a4Ho1KBe",
        "outputId": "c6f333c1-584b-487c-bce8-379dc152dbbf"
      },
      "execution_count": 29,
      "outputs": [
        {
          "output_type": "stream",
          "name": "stdout",
          "text": [
            "Predicted Label: [12]\n",
            "Actual Label: 12\n"
          ]
        }
      ]
    },
    {
      "cell_type": "markdown",
      "source": [
        "##**Recommendation System and Prediction**"
      ],
      "metadata": {
        "id": "tt8LpdwZ1oRG"
      }
    },
    {
      "cell_type": "markdown",
      "source": [
        "#####**Load Datasets and used logic for recommendations**"
      ],
      "metadata": {
        "id": "Elt1qobY4BME"
      }
    },
    {
      "cell_type": "code",
      "source": [
        "sym_des=pd.read_csv(\"/content/symptoms_df.csv\")\n",
        "precautions=pd.read_csv(\"/content/precautions_df.csv\")\n",
        "health_advice=pd.read_csv(\"/content/workout_df.csv\")\n",
        "description=pd.read_csv(\"/content/description.csv\")\n",
        "medications=pd.read_csv(\"/content/medications.csv\")\n",
        "diets=pd.read_csv(\"/content/diets.csv\")"
      ],
      "metadata": {
        "id": "gsSCizZi1jp2"
      },
      "execution_count": 30,
      "outputs": []
    },
    {
      "cell_type": "code",
      "source": [
        "#=================== Custom helper Function ===================\n",
        "def helper(dis):\n",
        "  desc=description[description['Disease']==dis]['Description']\n",
        "  desc=\" \".join([w for w in desc])\n",
        "\n",
        "  pre=precautions[precautions['Disease']==dis][['Precaution_1','Precaution_2','Precaution_3','Precaution_4']]\n",
        "  pre=[pre for pre in pre.values]\n",
        "\n",
        "  med=medications[medications['Disease']==dis]['Medication']\n",
        "  med=[med for med in med.values]\n",
        "\n",
        "  health=health_advice[health_advice['disease']==dis]['workout']\n",
        "\n",
        "  diet=diets[diets['Disease']==dis]['Diet']\n",
        "  diet=[diet for diet in diet.values]\n",
        "\n",
        "  return desc,pre,med,health,diet\n",
        "\n",
        "symptoms_dict = {'itching': 0, 'skin_rash': 1, 'nodal_skin_eruptions': 2, 'continuous_sneezing': 3, 'shivering': 4, 'chills': 5, 'joint_pain': 6, 'stomach_pain': 7, 'acidity': 8, 'ulcers_on_tongue': 9, 'muscle_wasting': 10, 'vomiting': 11, 'burning_micturition': 12, 'spotting_ urination': 13, 'fatigue': 14, 'weight_gain': 15, 'anxiety': 16, 'cold_hands_and_feets': 17, 'mood_swings': 18, 'weight_loss': 19, 'restlessness': 20, 'lethargy': 21, 'patches_in_throat': 22, 'irregular_sugar_level': 23, 'cough': 24, 'high_fever': 25, 'sunken_eyes': 26, 'breathlessness': 27, 'sweating': 28, 'dehydration': 29, 'indigestion': 30, 'headache': 31, 'yellowish_skin': 32, 'dark_urine': 33, 'nausea': 34, 'loss_of_appetite': 35, 'pain_behind_the_eyes': 36, 'back_pain': 37, 'constipation': 38, 'abdominal_pain': 39, 'diarrhoea': 40, 'mild_fever': 41, 'yellow_urine': 42, 'yellowing_of_eyes': 43, 'acute_liver_failure': 44, 'fluid_overload': 45, 'swelling_of_stomach': 46, 'swelled_lymph_nodes': 47, 'malaise': 48, 'blurred_and_distorted_vision': 49, 'phlegm': 50, 'throat_irritation': 51, 'redness_of_eyes': 52, 'sinus_pressure': 53, 'runny_nose': 54, 'congestion': 55, 'chest_pain': 56, 'weakness_in_limbs': 57, 'fast_heart_rate': 58, 'pain_during_bowel_movements': 59, 'pain_in_anal_region': 60, 'bloody_stool': 61, 'irritation_in_anus': 62, 'neck_pain': 63, 'dizziness': 64, 'cramps': 65, 'bruising': 66, 'obesity': 67, 'swollen_legs': 68, 'swollen_blood_vessels': 69, 'puffy_face_and_eyes': 70, 'enlarged_thyroid': 71, 'brittle_nails': 72, 'swollen_extremeties': 73, 'excessive_hunger': 74, 'extra_marital_contacts': 75, 'drying_and_tingling_lips': 76, 'slurred_speech': 77, 'knee_pain': 78, 'hip_joint_pain': 79, 'muscle_weakness': 80, 'stiff_neck': 81, 'swelling_joints': 82, 'movement_stiffness': 83, 'spinning_movements': 84, 'loss_of_balance': 85, 'unsteadiness': 86, 'weakness_of_one_body_side': 87, 'loss_of_smell': 88, 'bladder_discomfort': 89, 'foul_smell_of urine': 90, 'continuous_feel_of_urine': 91, 'passage_of_gases': 92, 'internal_itching': 93, 'toxic_look_(typhos)': 94, 'depression': 95, 'irritability': 96, 'muscle_pain': 97, 'altered_sensorium': 98, 'red_spots_over_body': 99, 'belly_pain': 100, 'abnormal_menstruation': 101, 'dischromic _patches': 102, 'watering_from_eyes': 103, 'increased_appetite': 104, 'polyuria': 105, 'family_history': 106, 'mucoid_sputum': 107, 'rusty_sputum': 108, 'lack_of_concentration': 109, 'visual_disturbances': 110, 'receiving_blood_transfusion': 111, 'receiving_unsterile_injections': 112, 'coma': 113, 'stomach_bleeding': 114, 'distention_of_abdomen': 115, 'history_of_alcohol_consumption': 116, 'fluid_overload.1': 117, 'blood_in_sputum': 118, 'prominent_veins_on_calf': 119, 'palpitations': 120, 'painful_walking': 121, 'pus_filled_pimples': 122, 'blackheads': 123, 'scurring': 124, 'skin_peeling': 125, 'silver_like_dusting': 126, 'small_dents_in_nails': 127, 'inflammatory_nails': 128, 'blister': 129, 'red_sore_around_nose': 130, 'yellow_crust_ooze': 131}\n",
        "diseases_list = {15: 'Fungal infection', 4: 'Allergy', 16: 'GERD', 9: 'Chronic cholestasis',1:\"AIDS\",14: 'Drug Reaction', 34: 'Peptic ulcer diseae', 12: 'Diabetes ', 17: 'Gastroenteritis', 6: 'Bronchial Asthma', 23: 'Hypertension ', 31: 'Migraine', 7: 'Cervical spondylosis', 33: 'Paralysis (brain hemorrhage)', 29: 'Jaundice', 30: 'Malaria', 8: 'Chicken pox', 11: 'Dengue', 38: 'Typhoid', 41: 'hepatitis A', 19: 'Hepatitis B', 20: 'Hepatitis C', 21: 'Hepatitis D', 22: 'Hepatitis E', 3: 'Alcoholic hepatitis', 37: 'Tuberculosis', 10: 'Common Cold', 35: 'Pneumonia', 13: 'Dimorphic hemmorhoids(piles)', 39:'Urinary tract infection',18: 'Heart attack', 40: 'Varicose veins', 26: 'Hypothyroidism', 24: 'Hyperthyroidism', 25: 'Hypoglycemia', 32: 'Osteoarthristis', 5: 'Arthritis', 0: '(vertigo) Paroymsal  Positional Vertigo', 2: 'Acne', 36: 'Psoriasis', 27: 'Impetigo',28:'Influenza (Flu)'}\n",
        "\n",
        "#Model Prediction Function\n",
        "def predict_disease(patient_symptoms):\n",
        "    input_vector = np.zeros(len(symptoms_dict))\n",
        "\n",
        "    for item in patient_symptoms:\n",
        "        input_vector[symptoms_dict[item]] = 1\n",
        "    return diseases_list[best_svc.predict([input_vector])[0]]"
      ],
      "metadata": {
        "id": "N6L8k7Tt8qVW"
      },
      "execution_count": 31,
      "outputs": []
    },
    {
      "cell_type": "code",
      "source": [
        "# test 1\n",
        "symptoms=input(\"Enter your symptoms: \")\n",
        "user_symptoms=[s.strip() for s in symptoms.split(',') ]\n",
        "user_symptoms=[sym.strip(\"[]' \") for sym in user_symptoms]\n",
        "predicted_disease=predict_disease(user_symptoms)\n",
        "desc,pre,med,health,diet=helper(predicted_disease)\n",
        "\n",
        "#results print\n",
        "print(\"======================== Predicted Disease =========================\")\n",
        "print(predicted_disease)\n",
        "print(\"======================== Disease Description =======================\")\n",
        "print(desc)\n",
        "print(\"======================== Disease Precaution ========================\")\n",
        "i=1\n",
        "for p_i in pre[0]:\n",
        "  print(i,\": \",p_i)\n",
        "  i+=1\n",
        "\n",
        "print(\"======================== Disease Medication ========================\")\n",
        "i=1\n",
        "for m_i in med:\n",
        "    print(i,\": \",m_i)\n",
        "    i+=1\n",
        "\n",
        "print(\"======================== Disease Health Advice =======================\")\n",
        "i=1\n",
        "for h_i in health:\n",
        "  print(i,\": \",h_i)\n",
        "  i+=1\n",
        "\n",
        "print(\"========================= Disease Diet ================================\")\n",
        "i=1\n",
        "for d_i in diet:\n",
        "  print(i,\": \",d_i)\n",
        "  i+=1"
      ],
      "metadata": {
        "colab": {
          "base_uri": "https://localhost:8080/"
        },
        "id": "moaxAv9M4N3k",
        "outputId": "628ad364-ff25-4df0-bab8-3562df9b095e"
      },
      "execution_count": 32,
      "outputs": [
        {
          "output_type": "stream",
          "name": "stdout",
          "text": [
            "Enter your symptoms: itching\n",
            "======================== Predicted Disease =========================\n",
            "Fungal infection\n",
            "======================== Disease Description =======================\n",
            "Fungal infection is a common skin condition caused by fungi.\n",
            "======================== Disease Precaution ========================\n",
            "1 :  bath twice\n",
            "2 :  use detol or neem in bathing water\n",
            "3 :  keep infected area dry\n",
            "4 :  use clean cloths\n",
            "======================== Disease Medication ========================\n",
            "1 :  ['Antifungal Cream', 'Fluconazole', 'Terbinafine', 'Clotrimazole', 'Ketoconazole']\n",
            "======================== Disease Health Advice =======================\n",
            "1 :  Avoid sugary foods\n",
            "2 :  Consume probiotics\n",
            "3 :  Increase intake of garlic\n",
            "4 :  Include yogurt in diet\n",
            "5 :  Limit processed foods\n",
            "6 :  Stay hydrated\n",
            "7 :  Consume green tea\n",
            "8 :  Eat foods rich in zinc\n",
            "9 :  Include turmeric in diet\n",
            "10 :  Eat fruits and vegetables\n",
            "========================= Disease Diet ================================\n",
            "1 :  ['Antifungal Diet', 'Probiotics', 'Garlic', 'Coconut oil', 'Turmeric']\n"
          ]
        }
      ]
    },
    {
      "cell_type": "code",
      "source": [
        "# test 2\n",
        "symptoms=input(\"Enter your symptoms: \")\n",
        "user_symptoms=[s.strip() for s in symptoms.split(',') ]\n",
        "user_symptoms=[sym.strip(\"[]' \") for sym in user_symptoms]\n",
        "predicted_disease=predict_disease(user_symptoms)\n",
        "desc,pre,med,health,diet=helper(predicted_disease)\n",
        "\n",
        "#results print\n",
        "print(\"======================== Predicted Disease =========================\")\n",
        "print(predicted_disease)\n",
        "print(\"======================== Disease Description =======================\")\n",
        "print(desc)\n",
        "print(\"======================== Disease Precaution ========================\")\n",
        "i=1\n",
        "for p_i in pre[0]:\n",
        "  print(i,\": \",p_i)\n",
        "  i+=1\n",
        "\n",
        "print(\"======================== Disease Medication ========================\")\n",
        "i=1\n",
        "for m_i in med:\n",
        "    print(i,\": \",m_i)\n",
        "    i+=1\n",
        "\n",
        "print(\"======================== Disease Health Advice =======================\")\n",
        "i=1\n",
        "for h_i in health:\n",
        "  print(i,\": \",h_i)\n",
        "  i+=1\n",
        "\n",
        "print(\"========================= Disease Diet ================================\")\n",
        "i=1\n",
        "for d_i in diet:\n",
        "  print(i,\": \",d_i)\n",
        "  i+=1"
      ],
      "metadata": {
        "colab": {
          "base_uri": "https://localhost:8080/"
        },
        "id": "pxwEUytmC_-9",
        "outputId": "3e7ba707-6f66-4739-eda3-7f8162616a8c"
      },
      "execution_count": 34,
      "outputs": [
        {
          "output_type": "stream",
          "name": "stdout",
          "text": [
            "Enter your symptoms: high_fever,shivering\n",
            "======================== Predicted Disease =========================\n",
            "Allergy\n",
            "======================== Disease Description =======================\n",
            "Allergy is an immune system reaction to a substance in the environment.\n",
            "======================== Disease Precaution ========================\n",
            "1 :  apply calamine\n",
            "2 :  cover area with bandage\n",
            "3 :  nan\n",
            "4 :  use ice to compress itching\n",
            "======================== Disease Medication ========================\n",
            "1 :  ['Antihistamines', 'Decongestants', 'Epinephrine', 'Corticosteroids', 'Immunotherapy']\n",
            "======================== Disease Health Advice =======================\n",
            "1 :  Avoid allergenic foods\n",
            "2 :  Consume anti-inflammatory foods\n",
            "3 :  Include omega-3 fatty acids\n",
            "4 :  Stay hydrated\n",
            "5 :  Eat foods rich in vitamin C\n",
            "6 :  Include quercetin-rich foods\n",
            "7 :  Consume local honey\n",
            "8 :  Limit processed foods\n",
            "9 :  Include ginger in diet\n",
            "10 :  Avoid artificial additives\n",
            "========================= Disease Diet ================================\n",
            "1 :  ['Elimination Diet', 'Omega-3-rich foods', 'Vitamin C-rich foods', 'Quercetin-rich foods', 'Probiotics']\n"
          ]
        }
      ]
    },
    {
      "cell_type": "code",
      "source": [
        "# test 3\n",
        "symptoms=input(\"Enter your symptoms: \")\n",
        "user_symptoms=[s.strip() for s in symptoms.split(',') ]\n",
        "user_symptoms=[sym.strip(\"[]' \") for sym in user_symptoms]\n",
        "predicted_disease=predict_disease(user_symptoms)\n",
        "desc,pre,med,health,diet=helper(predicted_disease)\n",
        "\n",
        "#results print\n",
        "print(\"======================== Predicted Disease =========================\")\n",
        "print(predicted_disease)\n",
        "print(\"======================== Disease Description =======================\")\n",
        "print(desc)\n",
        "print(\"======================== Disease Precaution ========================\")\n",
        "i=1\n",
        "for p_i in pre[0]:\n",
        "  print(i,\": \",p_i)\n",
        "  i+=1\n",
        "\n",
        "print(\"======================== Disease Medication ========================\")\n",
        "i=1\n",
        "for m_i in med:\n",
        "    print(i,\": \",m_i)\n",
        "    i+=1\n",
        "\n",
        "print(\"======================== Disease Health Advice =======================\")\n",
        "i=1\n",
        "for h_i in health:\n",
        "  print(i,\": \",h_i)\n",
        "  i+=1\n",
        "\n",
        "print(\"========================= Disease Diet ================================\")\n",
        "i=1\n",
        "for d_i in diet:\n",
        "  print(i,\": \",d_i)\n",
        "  i+=1"
      ],
      "metadata": {
        "colab": {
          "base_uri": "https://localhost:8080/"
        },
        "id": "l1ecghF8XNRz",
        "outputId": "05a8b95b-52b7-477d-ed81-00b4b24f0a3d"
      },
      "execution_count": 36,
      "outputs": [
        {
          "output_type": "stream",
          "name": "stdout",
          "text": [
            "Enter your symptoms: joint_pain,hip_joint_pain\n",
            "======================== Predicted Disease =========================\n",
            "Osteoarthristis\n",
            "======================== Disease Description =======================\n",
            "Osteoarthristis is a degenerative joint disease that affects the cartilage in joints.\n",
            "======================== Disease Precaution ========================\n",
            "1 :  acetaminophen\n",
            "2 :  consult nearest hospital\n",
            "3 :  follow up\n",
            "4 :  salt baths\n",
            "======================== Disease Medication ========================\n",
            "1 :  ['NSAIDs', 'Disease-modifying antirheumatic drugs (DMARDs)', 'Biologics', 'Corticosteroids', 'Joint replacement surgery']\n",
            "======================== Disease Health Advice =======================\n",
            "1 :  Consume anti-inflammatory foods\n",
            "2 :  Include omega-3 fatty acids\n",
            "3 :  Consume antioxidant-rich foods\n",
            "4 :  Stay hydrated\n",
            "5 :  Limit processed foods\n",
            "6 :  Include vitamin K-rich foods\n",
            "7 :  Consult a healthcare professional\n",
            "8 :  Follow medical recommendations\n",
            "9 :  Engage in low-impact exercise\n",
            "10 :  Maintain a healthy weight\n",
            "========================= Disease Diet ================================\n",
            "1 :  ['Arthritis Diet', 'Anti-Inflammatory Diet', 'Omega-3-rich foods', 'Fruits and vegetables', 'Whole grains']\n"
          ]
        }
      ]
    }
  ]
}